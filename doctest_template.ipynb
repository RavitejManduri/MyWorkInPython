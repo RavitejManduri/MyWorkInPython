{
 "cells": [
  {
   "cell_type": "markdown",
   "metadata": {},
   "source": [
    "# Question\n",
    "Complete the function that converts date to day of week\n",
    "The function should pass the doctest"
   ]
  },
  {
   "cell_type": "code",
   "execution_count": 2,
   "metadata": {},
   "outputs": [],
   "source": [
    "# https://kolesnikov.ga/Testing_and_Debugging_Jupyter_Notebooks/\n",
    "import doctest\n",
    "from datetime import datetime"
   ]
  },
  {
   "cell_type": "markdown",
   "metadata": {},
   "source": [
    "https://www.programiz.com/python-programming/datetime \n",
    "source for date time conversion\n",
    "\n",
    "https://stackoverflow.com/questions/9847213/how-do-i-get-the-day-of-week-given-a-date-in-python\n",
    "this link finds the day of week from a given date"
   ]
  },
  {
   "cell_type": "code",
   "execution_count": 3,
   "metadata": {},
   "outputs": [],
   "source": [
    "def convert_datetime_to_dayofweek(datetime_string):\n",
    "    \"\"\"\n",
    "    This function takes date in the format MON DAY YEAR  HH:MM(PM/AM)\n",
    "    and returns the day of the week\n",
    "    Assume input string is UTC\n",
    "    \n",
    "    >>> convert_datetime_to_dayofweek('Jun 1 2005  1:33PM')\n",
    "    'Wednesday'\n",
    "    >>> convert_datetime_to_dayofweek('Oct 25 2012  2:17AM')\n",
    "    'Thursday'\n",
    "    \"\"\"\n",
    "    time= datetime_string.split()\n",
    "    #print(time[2],time[0],time[1])\n",
    "    # your code goes here\n",
    "    if(time[0]=='Jan'):\n",
    "        i=1\n",
    "    elif(time[0]=='Feb'):\n",
    "        i=2\n",
    "    elif(time[0]=='Mar'):\n",
    "        i=3\n",
    "    elif(time[0]=='Apr'):\n",
    "        i=4\n",
    "    elif(time[0]=='May'):\n",
    "        i=5\n",
    "    elif(time[0]=='Jun'):\n",
    "        i=6\n",
    "    elif(time[0]=='Jul'):\n",
    "        i=7\n",
    "    elif(time[0]=='Aug'):\n",
    "        i=8\n",
    "    elif(time[0]=='Sep'):\n",
    "        i=9\n",
    "    elif(time[0]=='Oct'):\n",
    "        i=10\n",
    "    elif(time[0]=='Noc'):\n",
    "        i=11\n",
    "    elif(time[0]=='Dec'):\n",
    "        i=12\n",
    "    b = datetime(int(time[2]),i,int(time[1]))\n",
    "    dayofweek=b.strftime(\"%A\")\n",
    "    return dayofweek"
   ]
  },
  {
   "cell_type": "code",
   "execution_count": 4,
   "metadata": {},
   "outputs": [
    {
     "name": "stdout",
     "output_type": "stream",
     "text": [
      "Thursday\n"
     ]
    }
   ],
   "source": [
    "x=convert_datetime_to_dayofweek('Oct 25 2012  2:17AM')\n",
    "print(x)"
   ]
  },
  {
   "cell_type": "code",
   "execution_count": null,
   "metadata": {},
   "outputs": [],
   "source": []
  }
 ],
 "metadata": {
  "kernelspec": {
   "display_name": "Python 3",
   "language": "python",
   "name": "python3"
  },
  "language_info": {
   "codemirror_mode": {
    "name": "ipython",
    "version": 3
   },
   "file_extension": ".py",
   "mimetype": "text/x-python",
   "name": "python",
   "nbconvert_exporter": "python",
   "pygments_lexer": "ipython3",
   "version": "3.7.3"
  }
 },
 "nbformat": 4,
 "nbformat_minor": 2
}
