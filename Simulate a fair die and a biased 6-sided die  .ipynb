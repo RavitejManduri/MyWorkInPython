{
 "cells": [
  {
   "cell_type": "markdown",
   "metadata": {},
   "source": [
    "# Question\n",
    "Simulate a fair die and a biased 6-sided die. The biased die has probabilities {0.15, 0.15, 0.15, 0.15, 0.15, 0.25}. Create a visualization that compares outcomes of multiple rolls of a fair die and this biased die. You can use a single visualization or multiple visualizations to demonstrate the difference in outcomes for the dice. The user of your notebook should be able to alter the number of simulations as an argument to a function.​"
   ]
  },
  {
   "cell_type": "markdown",
   "metadata": {},
   "source": [
    "# Answer"
   ]
  },
  {
   "cell_type": "code",
   "execution_count": 1,
   "metadata": {},
   "outputs": [],
   "source": [
    "import random\n",
    "import numpy as np\n",
    "import matplotlib.pyplot as plt"
   ]
  },
  {
   "cell_type": "markdown",
   "metadata": {},
   "source": [
    "https://www.reddit.com/r/learnpython/comments/awuj72/creating_a_biased_dice_on_python/\n",
    "\n",
    "The above link has Code for a biased dice\n"
   ]
  },
  {
   "cell_type": "markdown",
   "metadata": {},
   "source": [
    "https://subscription.packtpub.com/book/big_data_and_business_intelligence/9781849513265/1/ch01lvl1sec16/plotting-multiple-bar-charts\n",
    "\n",
    "This in link has code to plot the graph a shown below"
   ]
  },
  {
   "cell_type": "markdown",
   "metadata": {},
   "source": [
    "# Function for simulation"
   ]
  },
  {
   "cell_type": "code",
   "execution_count": 6,
   "metadata": {},
   "outputs": [],
   "source": [
    "def simulator(x):\n",
    "    sim=x\n",
    "    #l1 is the list to store the outcomes of biased dice\n",
    "    #c1 is the list to store the count of each outcome from a biased dice\n",
    "    c1=[]\n",
    "    l1=[]\n",
    "    #Simulating a biased dice\n",
    "    for i in range(sim):\n",
    "        l1.append(random.choices(range(1, 7), weights=(0.15, 0.15, 0.15, 0.15, 0.15, 0.25))[0])\n",
    "    #storing the total count of each outcome in the above simulation into c1\n",
    "    for i in range(6):\n",
    "        c1.append(l1.count(i+1))\n",
    "    #l2 is the list to store the outcomes of unbiased dice\n",
    "    #c2 is thhe list to store the count of each outcome from a unbiased dice \n",
    "    c2=[]\n",
    "    l2=[]\n",
    "    #Simulating  an unbiased dice\n",
    "    for i in range(sim):\n",
    "        l2.append(random.choices(range(1, 7))[0])\n",
    "    #storing the total count of each outcome in the above simulation into c2\n",
    "    for i in range(6):\n",
    "        c2.append(l2.count(i+1))\n",
    "    #appending c1 and c2\n",
    "    data=[c1,c2]\n",
    "    X = np.arange(1,7)\n",
    "    _=plt.bar(X - 0.10, data[0], color = 'r', width = 0.25)\n",
    "    _=plt.bar(X + 0.15, data[1], color = 'b', width = 0.25)\n",
    "    _=plt.ylabel('frequency',fontsize=12)\n",
    "    _=plt.xlabel('outcome',fontsize=12)\n",
    "    _=plt.title('Comparing outcomes of Biased dice and Unbiased dice')\n",
    "    plt.show()\n",
    "    return"
   ]
  },
  {
   "cell_type": "markdown",
   "metadata": {},
   "source": [
    "# Function call for the simulation"
   ]
  },
  {
   "cell_type": "code",
   "execution_count": 7,
   "metadata": {},
   "outputs": [
    {
     "data": {
      "image/png": "[encoded data removed]",
      "text/plain": [
       "<Figure size 432x288 with 1 Axes>"
      ]
     },
     "metadata": {
      "needs_background": "light"
     },
     "output_type": "display_data"
    }
   ],
   "source": [
    "simulator(10000)"
   ]
  },
  {
   "cell_type": "code",
   "execution_count": null,
   "metadata": {},
   "outputs": [],
   "source": []
  }
 ],
 "metadata": {
  "kernelspec": {
   "display_name": "Python 3",
   "language": "python",
   "name": "python3"
  },
  "language_info": {
   "codemirror_mode": {
    "name": "ipython",
    "version": 3
   },
   "file_extension": ".py",
   "mimetype": "text/x-python",
   "name": "python",
   "nbconvert_exporter": "python",
   "pygments_lexer": "ipython3",
   "version": "3.7.3"
  }
 },
 "nbformat": 4,
 "nbformat_minor": 2
}
