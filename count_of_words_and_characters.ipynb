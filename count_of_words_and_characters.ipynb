{
 "cells": [
  {
   "cell_type": "markdown",
   "metadata": {},
   "source": [
    "Write a function that returns the count of characters and words in a string. Do not use the print() function to display the results. The string should provided to the function as an argument. Submit a .ipynb file via Blackboard."
   ]
  },
  {
   "cell_type": "markdown",
   "metadata": {},
   "source": [
    "I am trying to find the count of words and characters in string in one finction i.e count(). C is a list to store the result. \n",
    "# Counting Characters\n",
    "Using replace() function I am trying to replace all the spaces with no character, It means completely removing spaces from the input string and the length of this new string gives the count of characters.\n",
    "https://stackoverflow.com/questions/3559559/how-to-delete-a-character-from-a-string-using-python. This is the reference where I found the replace function\n",
    "#  Counting Words\n",
    "Split function is used to split the string at a particular word. More documentation is present in the link below about split function.\n",
    "geeksforgeeks.org/python-string-split/ \n"
   ]
  },
  {
   "cell_type": "code",
   "execution_count": 12,
   "metadata": {},
   "outputs": [
    {
     "data": {
      "text/plain": [
       "[10, 2]"
      ]
     },
     "execution_count": 12,
     "metadata": {},
     "output_type": "execute_result"
    }
   ],
   "source": [
    "def count(input):\n",
    "    c=[]\n",
    "    input_new=input.replace(\" \",\"\")\n",
    "    c.append(len(input_new))\n",
    "    c.append(len(input.split()))\n",
    "    return c\n",
    "\n",
    "count(\"hello  world\")"
   ]
  },
  {
   "cell_type": "code",
   "execution_count": null,
   "metadata": {},
   "outputs": [],
   "source": []
  }
 ],
 "metadata": {
  "kernelspec": {
   "display_name": "Python 3",
   "language": "python",
   "name": "python3"
  },
  "language_info": {
   "codemirror_mode": {
    "name": "ipython",
    "version": 3
   },
   "file_extension": ".py",
   "mimetype": "text/x-python",
   "name": "python",
   "nbconvert_exporter": "python",
   "pygments_lexer": "ipython3",
   "version": "3.7.3"
  }
 },
 "nbformat": 4,
 "nbformat_minor": 2
}
