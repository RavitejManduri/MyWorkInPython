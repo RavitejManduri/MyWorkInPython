{
 "cells": [
  {
   "cell_type": "markdown",
   "metadata": {},
   "source": [
    "Write Python code that can create a CSV containing 10 columns of text data.\n",
    "\n",
    "Each entry in each row should be between 3 and 25 characters. Adjacent rows in a CSV should not be the same. Generate files of size {0.1, 1, 5, 10, 100, 500} MB of data. Execution time for creating all of the CSV files should take less than 5 minutes. (Email me if you do not solve this in less than an hour.).\n",
    "\n",
    "The precision of the file sizes is +/- 20%.\n",
    "\n",
    "Measure how much time it takes to write each CSV file to disk. In your measurement do not include the time used in creating the CSV files. Perform this measurement three times per file size. Each measurement is of a different CSV. That's three different files per file size.\n",
    "\n",
    "Measure how much time it takes for your computer to load the data from the CSV on disk into a Pandas dataframe. Perform this measurement three times per file size. Each measurement is of a different CSV.\n",
    "\n",
    "Results:\n",
    "\n",
    "table of values (file size versus read time and write time for each experiment) Plot the average wrlite times and average load times versus file size in a single scatter plot. with semilogx scale\n",
    "\n",
    "Submit your python notebook (.ipynb file) containing the code for the experiment (creating files, running the timing experiments) and the results.\n",
    "\n",
    "Do not include the CSV files in your submission."
   ]
  },
  {
   "cell_type": "code",
   "execution_count": 1,
   "metadata": {},
   "outputs": [],
   "source": [
    "import pandas as pd\n",
    "import os\n",
    "import random\n",
    "from random import randint\n",
    "import numpy\n",
    "import pickle\n",
    "import matplotlib.pyplot as plt\n",
    "import time\n",
    "start_time=time.time()"
   ]
  },
  {
   "cell_type": "code",
   "execution_count": 2,
   "metadata": {},
   "outputs": [],
   "source": [
    "names=open(\"nameslist.txt\",\"r\")\n",
    "names1=names.read()"
   ]
  },
  {
   "cell_type": "code",
   "execution_count": 3,
   "metadata": {},
   "outputs": [],
   "source": [
    "name=names1.split()\n",
    "email_list=[\"rediffmail.com\",\"gmail.com\",\"outlook.com\"]\n",
    "country_list=[\"USA\",\"UK\",\"INDIA\",\"CANADA\",\"SINGAPORE\",\"DUBAI\",\"AUSTRALIA\",\"ITALY\",\"GERMANY\"]\n",
    "company_list=[\"TCS\",\"HCL\",\"IBM\",\"INFOSYS\",\"CHASE\",\"GOOGLE\",\"FACEBOOK\",\"YOUTUBE\",\"AMAZON\",\"FLIPKART\",\"GB\",\"TD\",\"TB\"]\n",
    "house=[\"own\",\"rent\"]\n",
    "states=open(\"usa_states.txt\",\"r\")\n",
    "states1=states.read()\n",
    "statelist=states1.split()"
   ]
  },
  {
   "cell_type": "markdown",
   "metadata": {},
   "source": [
    "# Generating file size of 0.1 MB"
   ]
  },
  {
   "cell_type": "code",
   "execution_count": 4,
   "metadata": {},
   "outputs": [
    {
     "name": "stdout",
     "output_type": "stream",
     "text": [
      "0.02131501833597819 Average time for 1650\n"
     ]
    },
    {
     "data": {
      "text/plain": [
       "{1650: 0.02131501833597819}"
      ]
     },
     "execution_count": 4,
     "metadata": {},
     "output_type": "execute_result"
    }
   ],
   "source": [
    "number_times=3\n",
    "test_results=[]\n",
    "serial_results={}\n",
    "for test_index in range(number_times):\n",
    "    start_time=time.time()\n",
    "    data1=[]\n",
    "    num_rows=1650\n",
    "    for i in range(num_rows):\n",
    "        data1.append({'Name':random.choice(name),\n",
    "                    'Date_of_year':str(randint(1980,2010)),\n",
    "                    'Date_of_month':str(randint(1,12)),\n",
    "                    'Country':random.choice(country_list),\n",
    "                    'Company':random.choice(company_list),\n",
    "                    'City':random.choice(statelist),\n",
    "                    'Age':str(randint(10,62)),\n",
    "                    'Mobile':random.randint(1000000000,9999999999),\n",
    "                    'House':random.choice(house),\n",
    "                    'Annual income':random.randint(1000,99999)})\n",
    "    df = pd.DataFrame(data1)\n",
    "    test_results.append(time.time()-start_time)\n",
    "    #print('time taken',round(time.time()-start_time,2),'seconds')\n",
    "    df.to_csv('df.csv')\n",
    "    df.memory_usage(index=True).sum()\n",
    "    #test_results1.append(os.path.getsize(\"df.csv\")/(1024*1024))\n",
    "    \n",
    "serial_results[num_rows]=sum(test_results)/number_times\n",
    "print(serial_results[num_rows],'Average time for',num_rows)\n",
    "#serial_results1[num_rows]=sum(test_results1)/number_times\n",
    "#print(avg_test1_disk,'IS Average disk memory')\n",
    "#list(zip(test_results,test_results1))\n",
    "serial_results\n",
    "#serial_results1"
   ]
  },
  {
   "cell_type": "markdown",
   "metadata": {},
   "source": [
    "# Generating file size of 1 MB"
   ]
  },
  {
   "cell_type": "code",
   "execution_count": 5,
   "metadata": {},
   "outputs": [
    {
     "name": "stdout",
     "output_type": "stream",
     "text": [
      "0.22712294260660806 Average time for 16500\n"
     ]
    },
    {
     "data": {
      "text/plain": [
       "{16500: 0.22712294260660806}"
      ]
     },
     "execution_count": 5,
     "metadata": {},
     "output_type": "execute_result"
    }
   ],
   "source": [
    "number_times=3\n",
    "test_results1=[]\n",
    "serial_results1={}\n",
    "for test_index in range(number_times):\n",
    "    start_time=time.time()\n",
    "    data2=[]\n",
    "    num_rows=16500\n",
    "    for i in range(num_rows):\n",
    "        data2.append({'Name':random.choice(name),\n",
    "                    'Date_of_year':str(randint(1980,2010)),\n",
    "                    'Date_of_month':str(randint(1,12)),\n",
    "                    'Country':random.choice(country_list),\n",
    "                    'Company':random.choice(company_list),\n",
    "                    'City':random.choice(statelist),\n",
    "                    'Age':str(randint(10,62)),\n",
    "                    'Mobile':random.randint(1000000000,9999999999),\n",
    "                    'House':random.choice(house),\n",
    "                    'Annual income':random.randint(1000,99999)})\n",
    "    df1 = pd.DataFrame(data2)\n",
    "    test_results1.append(time.time()-start_time)\n",
    "    #print('time taken',round(time.time()-start_time,2),'seconds')\n",
    "    df.to_csv('df1.csv')\n",
    "    df.memory_usage(index=True).sum()\n",
    "    #test_results3.append(os.path.getsize(\"df1.csv\")/(1024*1024))\n",
    "    \n",
    "serial_results1[num_rows]=sum(test_results1)/number_times\n",
    "print(serial_results1[num_rows],'Average time for',num_rows)\n",
    "#avg_test2_disk=sum(test_results3)/number_times\n",
    "#print(avg_test2_disk,'IS Average disk memory')\n",
    "#list(zip(test_results2,test_results3))\n",
    "serial_results1"
   ]
  },
  {
   "cell_type": "markdown",
   "metadata": {},
   "source": [
    "# Generating file size of 5 MB"
   ]
  },
  {
   "cell_type": "code",
   "execution_count": 6,
   "metadata": {},
   "outputs": [
    {
     "name": "stdout",
     "output_type": "stream",
     "text": [
      "1.0791026751200359 Average time for 82500\n"
     ]
    },
    {
     "data": {
      "text/plain": [
       "{82500: 1.0791026751200359}"
      ]
     },
     "execution_count": 6,
     "metadata": {},
     "output_type": "execute_result"
    }
   ],
   "source": [
    "number_times=3\n",
    "test_results2=[]\n",
    "serial_results2={}\n",
    "for test_index in range(number_times):\n",
    "    start_time=time.time()\n",
    "    data3=[]\n",
    "    num_rows=82500\n",
    "    for i in range(num_rows):\n",
    "        data3.append({'Name':random.choice(name),\n",
    "                    'Date_of_year':str(randint(1980,2010)),\n",
    "                    'Date_of_month':str(randint(1,12)),\n",
    "                    'Country':random.choice(country_list),\n",
    "                    'Company':random.choice(company_list),\n",
    "                    'City':random.choice(statelist),\n",
    "                    'Age':str(randint(10,62)),\n",
    "                    'Mobile':random.randint(1000000000,9999999999),\n",
    "                    'House':random.choice(house),\n",
    "                    'Annual income':random.randint(1000,99999)})\n",
    "    df2 = pd.DataFrame(data3)\n",
    "    test_results2.append(time.time()-start_time)\n",
    "    #print('time taken',round(time.time()-start_time,2),'seconds')\n",
    "    df.to_csv('df2.csv')\n",
    "    df.memory_usage(index=True).sum()\n",
    "    #test_results5.append(os.path.getsize(\"df2.csv\")/(1024*1024))\n",
    "    \n",
    "serial_results2[num_rows]=sum(test_results2)/number_times\n",
    "print(serial_results2[num_rows],'Average time for',num_rows)\n",
    "#avg_test3_disk=sum(test_results5)/number_times\n",
    "#print(avg_test3_disk,'IS Average disk memory')\n",
    "#list(zip(test_results4,test_results5))\n",
    "serial_results2"
   ]
  },
  {
   "cell_type": "markdown",
   "metadata": {},
   "source": [
    "# Generating file size of 10 MB"
   ]
  },
  {
   "cell_type": "code",
   "execution_count": 7,
   "metadata": {},
   "outputs": [
    {
     "name": "stdout",
     "output_type": "stream",
     "text": [
      "3.2300785382588706 Average time for 155000\n"
     ]
    },
    {
     "data": {
      "text/plain": [
       "{155000: 3.2300785382588706}"
      ]
     },
     "execution_count": 7,
     "metadata": {},
     "output_type": "execute_result"
    }
   ],
   "source": [
    "number_times=3\n",
    "test_results3=[]\n",
    "serial_results3={}\n",
    "for test_index in range(number_times):\n",
    "    start_time=time.time()\n",
    "    data4=[]\n",
    "    num_rows=155000\n",
    "    for i in range(num_rows):\n",
    "        data4.append({'Name':random.choice(name),\n",
    "                    'Date_of_year':str(randint(1980,2010)),\n",
    "                    'Date_of_month':str(randint(1,12)),\n",
    "                    'Country':random.choice(country_list),\n",
    "                    'Company':random.choice(company_list),\n",
    "                    'City':random.choice(statelist),\n",
    "                    'Age':str(randint(10,62)),\n",
    "                    'Mobile':random.randint(1000000000,9999999999),\n",
    "                    'House':random.choice(house),\n",
    "                    'Annual income':random.randint(1000,99999)})\n",
    "    df3 = pd.DataFrame(data4)\n",
    "    test_results3.append(time.time()-start_time)\n",
    "    #print('time taken',round(time.time()-start_time,2),'seconds')\n",
    "    df.to_csv('df3.csv')\n",
    "    #df.memory_usage(index=True).sum()\n",
    "    #test_results7.append(os.path.getsize(\"df3.csv\")/(1024*1024))\n",
    "    \n",
    "serial_results3[num_rows]=sum(test_results3)/number_times\n",
    "print(serial_results3[num_rows],'Average time for',num_rows)\n",
    "#avg_test4_disk=sum(test_results7)/number_times\n",
    "#print(avg_test4_disk,'IS Average disk memory')\n",
    "#list(zip(test_results6,test_results7))\n",
    "serial_results3"
   ]
  },
  {
   "cell_type": "markdown",
   "metadata": {},
   "source": [
    "# Generating file size of 100 MB"
   ]
  },
  {
   "cell_type": "code",
   "execution_count": 8,
   "metadata": {},
   "outputs": [
    {
     "name": "stdout",
     "output_type": "stream",
     "text": [
      "22.331025044123333 Average time for 1550500\n"
     ]
    },
    {
     "data": {
      "text/plain": [
       "{1550500: 22.331025044123333}"
      ]
     },
     "execution_count": 8,
     "metadata": {},
     "output_type": "execute_result"
    }
   ],
   "source": [
    "number_times=3\n",
    "test_results4=[]\n",
    "serial_results4={}\n",
    "for test_index in range(number_times):\n",
    "    start_time=time.time()\n",
    "    data5=[]\n",
    "    num_rows=1550500\n",
    "    for i in range(num_rows):\n",
    "        data5.append({'Name':random.choice(name),\n",
    "                    'Date_of_year':str(randint(1980,2010)),\n",
    "                    'Date_of_month':str(randint(1,12)),\n",
    "                    'Country':random.choice(country_list),\n",
    "                    'Company':random.choice(company_list),\n",
    "                    'City':random.choice(statelist),\n",
    "                    'Age':str(randint(10,62)),\n",
    "                    'Mobile':random.randint(1000000000,9999999999),\n",
    "                    'House':random.choice(house),\n",
    "                    'Annual income':random.randint(1000,99999)})\n",
    "    df4 = pd.DataFrame(data5)\n",
    "    test_results4.append(time.time()-start_time)\n",
    "    #print('time taken',round(time.time()-start_time,2),'seconds')\n",
    "    df.to_csv('df4.csv')\n",
    "    #df.memory_usage(index=True).sum()\n",
    "    #test_results7.append(os.path.getsize(\"df3.csv\")/(1024*1024))\n",
    "    \n",
    "serial_results4[num_rows]=sum(test_results4)/number_times\n",
    "print(serial_results4[num_rows],'Average time for',num_rows)\n",
    "#avg_test4_disk=sum(test_results7)/number_times\n",
    "#print(avg_test4_disk,'IS Average disk memory')\n",
    "#list(zip(test_results6,test_results7))\n",
    "serial_results4"
   ]
  },
  {
   "cell_type": "markdown",
   "metadata": {},
   "source": [
    "# Generating file size of 500 MB"
   ]
  },
  {
   "cell_type": "code",
   "execution_count": 9,
   "metadata": {},
   "outputs": [
    {
     "name": "stdout",
     "output_type": "stream",
     "text": [
      "137.57657996813455 Average time for 7800000\n"
     ]
    }
   ],
   "source": [
    "number_times=3\n",
    "test_results5=[]\n",
    "serial_results5={}\n",
    "for test_index in range(number_times):\n",
    "    start_time=time.time()\n",
    "    data6=[]\n",
    "    num_rows=7800000\n",
    "    for i in range(num_rows):\n",
    "        data6.append({'Name':random.choice(name),\n",
    "                    'Date_of_year':str(randint(1980,2010)),\n",
    "                    'Date_of_month':str(randint(1,12)),\n",
    "                    'Country':random.choice(country_list),\n",
    "                    'Company':random.choice(company_list),\n",
    "                    'City':random.choice(statelist),\n",
    "                    'Age':str(randint(10,62)),\n",
    "                    'Mobile':random.randint(1000000000,9999999999),\n",
    "                    'House':random.choice(house),\n",
    "                    'Annual income':random.randint(1000,99999)})\n",
    "    df5 = pd.DataFrame(data6)\n",
    "    test_results5.append(time.time()-start_time)\n",
    "    #print('time taken',round(time.time()-start_time,2),'seconds')\n",
    "    df.to_csv('df5.csv')\n",
    "    #df.memory_usage(index=True).sum()\n",
    "    #test_results7.append(os.path.getsize(\"df3.csv\")/(1024*1024))\n",
    "    \n",
    "serial_results5[num_rows]=sum(test_results5)/number_times\n",
    "print(serial_results5[num_rows],'Average time for',num_rows)\n",
    "#avg_test4_disk=sum(test_results7)/number_times\n",
    "#print(avg_test4_disk,'IS Average disk memory')\n",
    "#list(zip(test_results6,test_results7))"
   ]
  },
  {
   "cell_type": "code",
   "execution_count": 10,
   "metadata": {},
   "outputs": [
    {
     "data": {
      "text/plain": [
       "{7800000: 137.57657996813455}"
      ]
     },
     "execution_count": 10,
     "metadata": {},
     "output_type": "execute_result"
    }
   ],
   "source": [
    "serial_results5"
   ]
  },
  {
   "cell_type": "code",
   "execution_count": 1,
   "metadata": {},
   "outputs": [
    {
     "ename": "NameError",
     "evalue": "name 'serial_results' is not defined",
     "output_type": "error",
     "traceback": [
      "\u001b[1;31m---------------------------------------------------------------------------\u001b[0m",
      "\u001b[1;31mNameError\u001b[0m                                 Traceback (most recent call last)",
      "\u001b[1;32m<ipython-input-1-2686ae60c0b5>\u001b[0m in \u001b[0;36m<module>\u001b[1;34m\u001b[0m\n\u001b[0;32m      1\u001b[0m \u001b[0mlist\u001b[0m\u001b[1;33m=\u001b[0m\u001b[1;33m[\u001b[0m\u001b[1;33m]\u001b[0m\u001b[1;33m\u001b[0m\u001b[1;33m\u001b[0m\u001b[0m\n\u001b[1;32m----> 2\u001b[1;33m \u001b[0mlist\u001b[0m\u001b[1;33m.\u001b[0m\u001b[0mappend\u001b[0m\u001b[1;33m(\u001b[0m\u001b[0mserial_results\u001b[0m\u001b[1;33m[\u001b[0m\u001b[1;36m1650\u001b[0m\u001b[1;33m]\u001b[0m\u001b[1;33m)\u001b[0m\u001b[1;33m\u001b[0m\u001b[1;33m\u001b[0m\u001b[0m\n\u001b[0m",
      "\u001b[1;31mNameError\u001b[0m: name 'serial_results' is not defined"
     ]
    }
   ],
   "source": [
    "list=[]\n",
    "list.append(serial_results[1650],serial_results1[16500],serial_results2[82500],serial_results3[155000],serial_results4[1550500],serial_results5[7800000])"
   ]
  },
  {
   "cell_type": "code",
   "execution_count": null,
   "metadata": {},
   "outputs": [],
   "source": []
  }
 ],
 "metadata": {
  "kernelspec": {
   "display_name": "Python 3",
   "language": "python",
   "name": "python3"
  },
  "language_info": {
   "codemirror_mode": {
    "name": "ipython",
    "version": 3
   },
   "file_extension": ".py",
   "mimetype": "text/x-python",
   "name": "python",
   "nbconvert_exporter": "python",
   "pygments_lexer": "ipython3",
   "version": "3.7.3"
  }
 },
 "nbformat": 4,
 "nbformat_minor": 2
}
