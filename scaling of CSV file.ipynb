{
 "cells": [
  {
   "cell_type": "code",
   "execution_count": 246,
   "metadata": {},
   "outputs": [],
   "source": [
    "import pandas as pd\n",
    "import numpy\n",
    "import pickle\n",
    "import matplotlib.pyplot as plt\n",
    "import time\n",
    "import os\n",
    "from random import choice\n",
    "import random\n",
    "from string import ascii_lowercase\n"
   ]
  },
  {
   "cell_type": "code",
   "execution_count": 247,
   "metadata": {},
   "outputs": [],
   "source": [
    "number_of_tests=3\n",
    "list_of_row_size=[1400,14000,60000,120000,1200000,6000000]\n",
    "colors1=[\"White\",\"Yellow\",\"Blue\",\"Red\",\"Green\",\"Black\",\"Brown\",\"Azure\",\"Ivory\",\"Teal\",\"Silver\",\"Purple\",\"Navy blue\",\"Pea green\",\"Gray\",\"Orange\",\"Maroon\",\"Charcoal\",\"Aquamarine\",\"Coral\",\"Fuchsia\",\"Wheat\",\"Lime\",\"Crimson\",\"Khaki\",\"Hot pink\",\"Magenta\",\"Olden\",\"Plum\",\"Olive\",\"Cyan\"]\n"
   ]
  },
  {
   "cell_type": "markdown",
   "metadata": {},
   "source": [
    "# Creating a Random Files of Different files and calculating the avg time taken for each file to write to disk."
   ]
  },
  {
   "cell_type": "code",
   "execution_count": 248,
   "metadata": {},
   "outputs": [
    {
     "name": "stdout",
     "output_type": "stream",
     "text": [
      "elapsed time: 2.03 for 1400\n",
      "elapsed time: 2.43 for 14000\n",
      "elapsed time: 4.1 for 60000\n",
      "elapsed time: 7.32 for 120000\n",
      "elapsed time: 41.19 for 1200000\n",
      "elapsed time: 209.69 for 6000000\n"
     ]
    }
   ],
   "source": [
    "serial_reslts={}\n",
    "scaling_start=time.time()\n",
    "i=0\n",
    "for row_count in list_of_row_size:\n",
    "    test_reslts=[]\n",
    "    for test_indx in range(number_of_tests): \n",
    "        #generating a 2 dimentional array with random character of length between 3 and 25\n",
    "        z=[[random.choice(colors) for col in range(0,10)] for row in range(0,row_count)]\n",
    "        # creating a dataframe with 10 columns and given no of rows\n",
    "        df = pandas.DataFrame(z,columns=list('ABCDEFGHIJ'))\n",
    "        # wrap the line of the code we are measuring with timing \n",
    "        start_time = time.time()\n",
    "     \n",
    "        # creating a file\n",
    "        df.to_csv(\"x\" + str(i) + \".csv\")\n",
    "        i=i+1\n",
    "        test_reslts.append(time.time() - start_time) # store elapsed time to a list\n",
    "    # after running the experiment multiple times, record the average result to a dictionary\n",
    "    serial_reslts[row_count]=sum(test_reslts)/number_of_tests\n",
    "    \n",
    "    # progress indicator as we scale up\n",
    "    print('elapsed time:',round(time.time() - scaling_start,2),'for',row_count)"
   ]
  },
  {
   "cell_type": "markdown",
   "metadata": {},
   "source": [
    "# Finding the size of each file"
   ]
  },
  {
   "cell_type": "code",
   "execution_count": 317,
   "metadata": {},
   "outputs": [
    {
     "name": "stdout",
     "output_type": "stream",
     "text": [
      "0.09630012512207031\n",
      "0.09645557403564453\n",
      "0.09628868103027344\n",
      "0.9784631729125977\n",
      "0.9789257049560547\n",
      "0.9791803359985352\n",
      "4.23045539855957\n",
      "4.228681564331055\n",
      "4.230749130249023\n",
      "8.489181518554688\n",
      "8.48828411102295\n",
      "8.488972663879395\n",
      "86.0294418334961\n",
      "86.03571510314941\n",
      "86.03548049926758\n",
      "434.3610677719116\n",
      "434.35089111328125\n",
      "434.37980937957764\n"
     ]
    }
   ],
   "source": [
    "i=0\n",
    "size=[]\n",
    "for i in range(18):\n",
    "    statinfo = os.path.getsize(\"x\" + str(i) + \".csv\")\n",
    "    if(i%3==0):\n",
    "        size.append(statinfo/1024/1024)\n",
    "    print(statinfo/1024/1024)"
   ]
  },
  {
   "cell_type": "markdown",
   "metadata": {},
   "source": [
    "# Displaying Avg Time Taken to Write file into disk"
   ]
  },
  {
   "cell_type": "code",
   "execution_count": 250,
   "metadata": {},
   "outputs": [
    {
     "data": {
      "text/plain": [
       "{1400: 0.006670633951822917,\n",
       " 14000: 0.03789933522542318,\n",
       " 60000: 0.15626088778177896,\n",
       " 120000: 0.2999107042948405,\n",
       " 1200000: 3.1073641777038574,\n",
       " 6000000: 15.795418421427408}"
      ]
     },
     "execution_count": 250,
     "metadata": {},
     "output_type": "execute_result"
    }
   ],
   "source": [
    "serial_reslts"
   ]
  },
  {
   "cell_type": "code",
   "execution_count": 251,
   "metadata": {},
   "outputs": [],
   "source": [
    "serial_reslts1={}\n",
    "serial_reslts1=serial_reslts"
   ]
  },
  {
   "cell_type": "markdown",
   "metadata": {},
   "source": [
    "# Calculating the time to load the data from Disk"
   ]
  },
  {
   "cell_type": "code",
   "execution_count": 252,
   "metadata": {
    "scrolled": true
   },
   "outputs": [
    {
     "name": "stdout",
     "output_type": "stream",
     "text": [
      "elapsed time: 0.03 for 1400\n",
      "elapsed time: 0.11 for 14000\n",
      "elapsed time: 0.36 for 60000\n",
      "elapsed time: 0.77 for 120000\n",
      "elapsed time: 4.5 for 1200000\n",
      "elapsed time: 22.76 for 6000000\n"
     ]
    }
   ],
   "source": [
    "read_reslts={}\n",
    "scaling_start=time.time()\n",
    "i=0\n",
    "for row_count in list_of_row_size:\n",
    "    test_reslts=[]\n",
    "    for test_indx in range(number_of_tests): \n",
    "        # wrap the line of the code we are measuring with timing \n",
    "        start_time = time.time()\n",
    "        data={}\n",
    "     \n",
    "        # creating a file\n",
    "        data = pd.read_csv(\"x\" + str(i) + \".csv\")\n",
    "        i=i+1\n",
    "        test_reslts.append(time.time() - start_time) # store elapsed time to a list\n",
    "        \n",
    "        \n",
    "\n",
    "    # after running the experiment multiple times, record the average result to a dictionary\n",
    "    read_reslts[row_count]=sum(test_reslts)/number_of_tests\n",
    "    \n",
    "    # progress indicator as we scale up\n",
    "    print('elapsed time:',round(time.time() - scaling_start,2),'for',row_count)"
   ]
  },
  {
   "cell_type": "markdown",
   "metadata": {},
   "source": [
    "# Displaying Avg Time Taken to Load file from disk"
   ]
  },
  {
   "cell_type": "code",
   "execution_count": 288,
   "metadata": {},
   "outputs": [
    {
     "data": {
      "text/plain": [
       "{1400: 0.010959466298421225,\n",
       " 14000: 0.024268547693888348,\n",
       " 60000: 0.08410875002543132,\n",
       " 120000: 0.13697965939839682,\n",
       " 1200000: 1.243674596150716,\n",
       " 6000000: 6.084401448567708}"
      ]
     },
     "execution_count": 288,
     "metadata": {},
     "output_type": "execute_result"
    }
   ],
   "source": [
    "read_reslts"
   ]
  },
  {
   "cell_type": "code",
   "execution_count": 254,
   "metadata": {},
   "outputs": [],
   "source": [
    "read_reslts1={}\n",
    "read_reslts1=read_reslts"
   ]
  },
  {
   "cell_type": "code",
   "execution_count": 267,
   "metadata": {},
   "outputs": [
    {
     "name": "stdout",
     "output_type": "stream",
     "text": [
      "[1400]\n",
      "[14000]\n",
      "[60000]\n",
      "[120000]\n",
      "[1200000]\n",
      "[6000000]\n"
     ]
    }
   ],
   "source": [
    "j=0\n",
    "for i in range(len(list_of_row_size)):\n",
    "    x=[[serial_reslts[list_of_row_size[j]]] for row in range(0,6)]\n",
    "    print([list_of_row_size[j]])\n",
    "    j=j+1\n",
    "    '1400','14000','60000','120000','1200000','6000000'"
   ]
  },
  {
   "cell_type": "code",
   "execution_count": 297,
   "metadata": {},
   "outputs": [],
   "source": [
    "values={}\n",
    "values = pandas.DataFrame(index=[1400,14000,60000,120000,1200000,6000000], columns=['Read time','Write time'])"
   ]
  },
  {
   "cell_type": "markdown",
   "metadata": {},
   "source": [
    "https://stackoverflow.com/questions/13842088/set-value-for-particular-cell-in-pandas-dataframe-using-index"
   ]
  },
  {
   "cell_type": "code",
   "execution_count": 304,
   "metadata": {},
   "outputs": [
    {
     "name": "stderr",
     "output_type": "stream",
     "text": [
      "C:\\Users\\ravit\\AppData\\Local\\Continuum\\anaconda3\\lib\\site-packages\\ipykernel_launcher.py:2: FutureWarning: set_value is deprecated and will be removed in a future release. Please use .at[] or .iat[] accessors instead\n",
      "  \n",
      "C:\\Users\\ravit\\AppData\\Local\\Continuum\\anaconda3\\lib\\site-packages\\ipykernel_launcher.py:3: FutureWarning: set_value is deprecated and will be removed in a future release. Please use .at[] or .iat[] accessors instead\n",
      "  This is separate from the ipykernel package so we can avoid doing imports until\n"
     ]
    }
   ],
   "source": [
    "for i in range(len(list_of_row_size)):\n",
    "    values.set_value(list_of_row_size[i], 'Read time', read_reslts[list_of_row_size[i]])\n",
    "    values.set_value(list_of_row_size[i], 'Write time', serial_reslts[list_of_row_size[i]])"
   ]
  },
  {
   "cell_type": "markdown",
   "metadata": {},
   "source": [
    "# Table of values (file size versus read time and write time for each experiment) "
   ]
  },
  {
   "cell_type": "code",
   "execution_count": 305,
   "metadata": {},
   "outputs": [
    {
     "data": {
      "text/html": [
       "<div>\n",
       "<style scoped>\n",
       "    .dataframe tbody tr th:only-of-type {\n",
       "        vertical-align: middle;\n",
       "    }\n",
       "\n",
       "    .dataframe tbody tr th {\n",
       "        vertical-align: top;\n",
       "    }\n",
       "\n",
       "    .dataframe thead th {\n",
       "        text-align: right;\n",
       "    }\n",
       "</style>\n",
       "<table border=\"1\" class=\"dataframe\">\n",
       "  <thead>\n",
       "    <tr style=\"text-align: right;\">\n",
       "      <th></th>\n",
       "      <th>Read time</th>\n",
       "      <th>Write time</th>\n",
       "    </tr>\n",
       "  </thead>\n",
       "  <tbody>\n",
       "    <tr>\n",
       "      <th>1400</th>\n",
       "      <td>0.0109595</td>\n",
       "      <td>0.00667063</td>\n",
       "    </tr>\n",
       "    <tr>\n",
       "      <th>14000</th>\n",
       "      <td>0.0242685</td>\n",
       "      <td>0.0378993</td>\n",
       "    </tr>\n",
       "    <tr>\n",
       "      <th>60000</th>\n",
       "      <td>0.0841088</td>\n",
       "      <td>0.156261</td>\n",
       "    </tr>\n",
       "    <tr>\n",
       "      <th>120000</th>\n",
       "      <td>0.13698</td>\n",
       "      <td>0.299911</td>\n",
       "    </tr>\n",
       "    <tr>\n",
       "      <th>1200000</th>\n",
       "      <td>1.24367</td>\n",
       "      <td>3.10736</td>\n",
       "    </tr>\n",
       "    <tr>\n",
       "      <th>6000000</th>\n",
       "      <td>6.0844</td>\n",
       "      <td>15.7954</td>\n",
       "    </tr>\n",
       "  </tbody>\n",
       "</table>\n",
       "</div>"
      ],
      "text/plain": [
       "         Read time  Write time\n",
       "1400     0.0109595  0.00667063\n",
       "14000    0.0242685   0.0378993\n",
       "60000    0.0841088    0.156261\n",
       "120000     0.13698    0.299911\n",
       "1200000    1.24367     3.10736\n",
       "6000000     6.0844     15.7954"
      ]
     },
     "execution_count": 305,
     "metadata": {},
     "output_type": "execute_result"
    }
   ],
   "source": [
    "values"
   ]
  },
  {
   "cell_type": "code",
   "execution_count": 306,
   "metadata": {},
   "outputs": [],
   "source": [
    "read=[]\n",
    "for i in range(len(list_of_row_size)):\n",
    "    read.append(read_reslts[list_of_row_size[i]])"
   ]
  },
  {
   "cell_type": "code",
   "execution_count": 307,
   "metadata": {},
   "outputs": [],
   "source": [
    "load=[]\n",
    "for i in range(len(list_of_row_size)):\n",
    "    load.append(serial_reslts[list_of_row_size[i]])"
   ]
  },
  {
   "cell_type": "markdown",
   "metadata": {},
   "source": [
    "# Plot the average write times and average load times versus file size in a single scatter plot with semilogx scale"
   ]
  },
  {
   "cell_type": "code",
   "execution_count": 335,
   "metadata": {},
   "outputs": [
    {
     "data": {
      "image/png": "[encoded data removed]",
      "text/plain": [
       "<Figure size 432x288 with 1 Axes>"
      ]
     },
     "metadata": {
      "needs_background": "light"
     },
     "output_type": "display_data"
    }
   ],
   "source": [
    "import matplotlib.pyplot as plt\n",
    "plt.semilogx(read,size)\n",
    "plt.semilogx(load,size )\n",
    "plt.ylabel(\"Size\")\n",
    "plt.xlabel(\"Time\")\n",
    "plt.title(\"average write times and average load times versus file size\")\n",
    "plt.show()"
   ]
  },
  {
   "cell_type": "code",
   "execution_count": 319,
   "metadata": {},
   "outputs": [
    {
     "data": {
      "text/plain": [
       "[0.09630012512207031,\n",
       " 0.9784631729125977,\n",
       " 4.23045539855957,\n",
       " 8.489181518554688,\n",
       " 86.0294418334961,\n",
       " 434.3610677719116]"
      ]
     },
     "execution_count": 319,
     "metadata": {},
     "output_type": "execute_result"
    }
   ],
   "source": [
    "size"
   ]
  },
  {
   "cell_type": "code",
   "execution_count": 337,
   "metadata": {},
   "outputs": [
    {
     "data": {
      "text/plain": [
       "Text(0.5, 1.0, 'average write times and average load times versus file size')"
      ]
     },
     "execution_count": 337,
     "metadata": {},
     "output_type": "execute_result"
    },
    {
     "data": {
      "image/png": "[encoded data removed]",
      "text/plain": [
       "<Figure size 432x288 with 1 Axes>"
      ]
     },
     "metadata": {
      "needs_background": "light"
     },
     "output_type": "display_data"
    }
   ],
   "source": [
    "fig = plt.figure()\n",
    "ax = plt.gca()\n",
    "ax.scatter(read ,size , c='blue', edgecolors='none')\n",
    "ax.scatter(load ,size , c='Red', edgecolors='none')\n",
    "ax.set_xscale('log')\n",
    "ax.set_title(\"average write times and average load times versus file size\")\n"
   ]
  },
  {
   "cell_type": "code",
   "execution_count": null,
   "metadata": {},
   "outputs": [],
   "source": []
  }
 ],
 "metadata": {
  "kernelspec": {
   "display_name": "Python 3",
   "language": "python",
   "name": "python3"
  },
  "language_info": {
   "codemirror_mode": {
    "name": "ipython",
    "version": 3
   },
   "file_extension": ".py",
   "mimetype": "text/x-python",
   "name": "python",
   "nbconvert_exporter": "python",
   "pygments_lexer": "ipython3",
   "version": "3.7.3"
  }
 },
 "nbformat": 4,
 "nbformat_minor": 2
}
