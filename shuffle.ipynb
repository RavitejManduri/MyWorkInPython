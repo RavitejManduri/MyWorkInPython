{
 "cells": [
  {
   "cell_type": "markdown",
   "metadata": {},
   "source": [
    "Write a function that takes a list as the argument and returns a list with each element shifted right by one index. \n",
    "\n",
    "For example, [3, 7, 4, 1] becomes [1, 3, 7, 4]."
   ]
  },
  {
   "cell_type": "markdown",
   "metadata": {},
   "source": [
    "input[-1:] takes last element\n",
    "input[:-1] take elements from first to last but one element\n",
    "these two are appended which results in the resultant output.\n",
    "This reference was useful\n",
    "https://stackoverflow.com/questions/29840387/moving-elements-in-a-list-to-the-left-by-one-position"
   ]
  },
  {
   "cell_type": "code",
   "execution_count": 24,
   "metadata": {},
   "outputs": [
    {
     "data": {
      "text/plain": [
       "[4, 1, 2, 3]"
      ]
     },
     "execution_count": 24,
     "metadata": {},
     "output_type": "execute_result"
    }
   ],
   "source": [
    "def shuffle(input):\n",
    "    input1=input[-1:]+input[:-1]\n",
    "    \n",
    "    return input1\n",
    "input=[1,2,3,4]\n",
    "shuffle(input)"
   ]
  },
  {
   "cell_type": "code",
   "execution_count": null,
   "metadata": {},
   "outputs": [],
   "source": []
  }
 ],
 "metadata": {
  "kernelspec": {
   "display_name": "Python 3",
   "language": "python",
   "name": "python3"
  },
  "language_info": {
   "codemirror_mode": {
    "name": "ipython",
    "version": 3
   },
   "file_extension": ".py",
   "mimetype": "text/x-python",
   "name": "python",
   "nbconvert_exporter": "python",
   "pygments_lexer": "ipython3",
   "version": "3.7.3"
  }
 },
 "nbformat": 4,
 "nbformat_minor": 2
}
