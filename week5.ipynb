{
 "cells": [
  {
   "cell_type": "markdown",
   "metadata": {},
   "source": [
    "# question\n",
    "You get an Excel spreadsheet that has two worksheets, \"patient info\" and \"records\"\n",
    "\n",
    "- Each worksheet has data and visualizations and formulas\n",
    "- Each row in each worksheet represents information associated with a single person.. \n",
    "- Worksheet \"patient info\" has a \"patient id\" column; \n",
    "- Worksheet \"records\" has a \"p_id\" column\n",
    "- The \"patient id\" values in \"patient info\" tab are the same variable as \"p_id\" in \"records\". Some people have information on both sheets, while other people have information only on one sheet.\n",
    "\n",
    "\n",
    "Use openpyxl to copy information about patients from \"records\" to \"patient info\". Submit a notebook that reads the Excel spreadsheet and produces a separate spreadsheet with the following modifications:\n",
    "\n",
    "- For each patient identified by \"p_id\" listed in the \"records\" sheet that don't exist in \"patient info,\" create a new row in \"patient info\". The row from \"records\" should be copied to the row in \"patient info.\"\n",
    "- For each patient listed in the \"records\" sheet where \"p_id\" appears \"patient info\" under \"patient id,\" copy the data in the row from records to \"patient info\" sheet\n",
    "- Make no changes to the visualizations that exist in each worksheet\n",
    "- Make no changes to the data in the \"records\" sheet\n",
    "- Write your changes to a new .xlsx file (don't overwrite the original)\n",
    "\n",
    "\n",
    "Observations:\n",
    "\n",
    "- \"patient info\" worksheet will have new columns (because those new columns exist in the \"records\" worksheet)\n",
    "- \"patient info\" worksheet will have new rows (one new row per patient)\n",
    "- There will be empty cells in \"patient info\" worksheet\n",
    "- Use a programmatic (rather than manual) approach to identify which patients appear in both worksheets\n",
    "- Some cells in both worksheets contain formulas. Copy only values from \"records\" to \"patient info\"\n",
    "\n"
   ]
  },
  {
   "cell_type": "code",
   "execution_count": 1,
   "metadata": {},
   "outputs": [],
   "source": [
    "import openpyxl"
   ]
  },
  {
   "cell_type": "markdown",
   "metadata": {},
   "source": [
    "Opening an excel sheet and reading the sheets"
   ]
  },
  {
   "cell_type": "code",
   "execution_count": 2,
   "metadata": {},
   "outputs": [],
   "source": [
    "wb = openpyxl.load_workbook('week_05_homework_XLSX_openpyxl.xlsx')"
   ]
  },
  {
   "cell_type": "code",
   "execution_count": 3,
   "metadata": {},
   "outputs": [],
   "source": [
    "records = wb['records']"
   ]
  },
  {
   "cell_type": "code",
   "execution_count": 4,
   "metadata": {},
   "outputs": [],
   "source": [
    "patient_i = wb['patient info']\n",
    "#patient_i.max_row\n",
    "#records.max_column"
   ]
  },
  {
   "cell_type": "markdown",
   "metadata": {},
   "source": [
    "https://stackoverflow.com/questions/8703496/hash-map-in-python\n",
    "Below is a dictionary(page1) with key value pair having the patient id(patient info) as key and row no as value"
   ]
  },
  {
   "cell_type": "code",
   "execution_count": 5,
   "metadata": {},
   "outputs": [],
   "source": [
    "page1={}\n",
    "for i in range(patient_i.max_row-1):\n",
    "    page1[patient_i.cell(row=i+2, column=1).value]=i+2\n",
    "#page1\n",
    "#print(list(page1.keys())[0])\n",
    "#print(page1[list(page1.keys())[0]])"
   ]
  },
  {
   "cell_type": "markdown",
   "metadata": {},
   "source": [
    "https://www.geeksforgeeks.org/python-check-whether-given-key-already-exists-in-a-dictionary/#targetText=This%20method%20simply%20uses%20if,key%20exist%20in%20the%20dictionary.&targetText=has_key()%20method%20returns%20true,in%20the%20dictionary%20or%20not. (check if a key is in dictionary)\n",
    "Check if the a p_id in records is present in patient info if not adding new row"
   ]
  },
  {
   "cell_type": "code",
   "execution_count": 6,
   "metadata": {},
   "outputs": [],
   "source": [
    "x=patient_i.max_row+1\n",
    "for i in range(records.max_row-1):\n",
    "    if records.cell(row=i+2, column=1).value not in page1.keys():\n",
    "        patient_i.cell(row=x, column=1).value=records.cell(row=i+2, column=1).value\n",
    "        x=x+1\n",
    "        for j in range(29):\n",
    "            patient_i.cell(row=x, column=j+7).value=records.cell(row=i+2, column=j+2).value           \n",
    "        \n",
    "\n",
    "    "
   ]
  },
  {
   "cell_type": "markdown",
   "metadata": {},
   "source": [
    "https://www.google.com/search?q=openpyxl+max+row"
   ]
  },
  {
   "cell_type": "markdown",
   "metadata": {},
   "source": [
    "Below is a dictionary(page2) with key value pair having the patient id(records) as key and row no as value"
   ]
  },
  {
   "cell_type": "code",
   "execution_count": 7,
   "metadata": {},
   "outputs": [],
   "source": [
    "page2={}\n",
    "for i in range(records.max_row-1):\n",
    "    page2[records.cell(row=i+2, column=1).value]=i+2\n",
    "#page2"
   ]
  },
  {
   "cell_type": "markdown",
   "metadata": {},
   "source": [
    "the below code is to fill the patient details in patient info from records sheet. here we are finding row no(x) of a particular patient id(of patient info) in records sheet and copying those rows(x) details from records to patient info sheet"
   ]
  },
  {
   "cell_type": "code",
   "execution_count": 8,
   "metadata": {},
   "outputs": [],
   "source": [
    "for i in range(patient_i.max_row-1):\n",
    "    if patient_i.cell(row=i+2, column=1).value in page2.keys():\n",
    "        x=page2[patient_i.cell(row=i+2, column=1).value]\n",
    "        #print(x)\n",
    "        for j in range(records.max_column):\n",
    "            patient_i.cell(row=i+2, column=j+7).value=records.cell(row=x, column=j+2).value"
   ]
  },
  {
   "cell_type": "code",
   "execution_count": 9,
   "metadata": {},
   "outputs": [],
   "source": [
    "for j in range(29):\n",
    "    patient_i.cell(row=1, column=j+7).value=records.cell(row=1, column=j+2).value"
   ]
  },
  {
   "cell_type": "markdown",
   "metadata": {},
   "source": [
    "# saving\n",
    "saving as a new xlsx file"
   ]
  },
  {
   "cell_type": "code",
   "execution_count": 10,
   "metadata": {},
   "outputs": [],
   "source": [
    "wb.save('weeks5.xlsx')"
   ]
  },
  {
   "cell_type": "code",
   "execution_count": null,
   "metadata": {},
   "outputs": [],
   "source": []
  }
 ],
 "metadata": {
  "kernelspec": {
   "display_name": "Python 3",
   "language": "python",
   "name": "python3"
  },
  "language_info": {
   "codemirror_mode": {
    "name": "ipython",
    "version": 3
   },
   "file_extension": ".py",
   "mimetype": "text/x-python",
   "name": "python",
   "nbconvert_exporter": "python",
   "pygments_lexer": "ipython3",
   "version": "3.7.3"
  }
 },
 "nbformat": 4,
 "nbformat_minor": 2
}
