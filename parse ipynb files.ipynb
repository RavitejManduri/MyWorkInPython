{
 "cells": [
  {
   "cell_type": "markdown",
   "metadata": {},
   "source": [
    "Submit a notebook that finds all other notebooks used for Data 601 on your computer and generates a list of the modules used\n",
    "\n",
    "- Look for .ipynb files using the glob module in Python\n",
    "- Your analysis should include at least eight .ipynb files. \n",
    "- Files used for code other than assignments (eg projects, work from other courses) is acceptable to include\n",
    "- Create functions that parse the file and find modules.\n",
    "- Use a loop to call the functions on each file.\n",
    "- Look for code cells (ignore Markdown and raw cells)\n",
    "- Look for lines of code that start with either \"from\" or \"import\"​\n",
    "- Look for the keywords only in code input (rather than including cell output content)"
   ]
  },
  {
   "cell_type": "code",
   "execution_count": 1,
   "metadata": {},
   "outputs": [],
   "source": [
    "import glob\n",
    "import re"
   ]
  },
  {
   "cell_type": "code",
   "execution_count": 2,
   "metadata": {},
   "outputs": [],
   "source": [
    "files=glob.glob(\"*.ipynb\")"
   ]
  },
  {
   "cell_type": "code",
   "execution_count": 3,
   "metadata": {},
   "outputs": [],
   "source": [
    "def parse(file):\n",
    "    l=[]\n",
    "    \n",
    "    try:\n",
    "        f=open(file,\"r\",encoding=\"utf8\")\n",
    "    except IOError:\n",
    "        return\n",
    "    \n",
    "    contents =f.read()\n",
    "    f.close()\n",
    "    #finding statements starting with 'import' and storing in 'l'\n",
    "    while(contents.find('\"import ')!=-1):\n",
    "        x=re.search(r'\"import .*?\"',contents)\n",
    "        l.append(x.group())\n",
    "        contents=contents.replace(x.group(),\"\")\n",
    "    #finding statements starting with 'from' and storing in 'l'\n",
    "    while(contents.find('\"from ')!=-1):    \n",
    "        y=re.search(r'\"from .*?\"',contents)\n",
    "        l.append(y.group())\n",
    "        contents=contents.replace(y.group(),\"\")\n",
    "    y=[]\n",
    "    #extracting string less than 50 length because to avoid the strings which are like \"important....\" which  matches our pattern\n",
    "    y = [s for s in l if len(s) <50]\n",
    "    for i in range(len(y)):\n",
    "        y[i]=y[i].replace(\"\\\\n\",\"\")\n",
    "        y[i]=y[i].replace(\"\\\\\",\"\")\n",
    "        y[i]=y[i].replace('\"',\"\")\n",
    "        y[i]=y[i].split()[1]\n",
    "    print(file,\"--->\", end=\" \")\n",
    "    if(len(set(y))>0):\n",
    "        print(set(y))"
   ]
  },
  {
   "cell_type": "code",
   "execution_count": 4,
   "metadata": {},
   "outputs": [
    {
     "name": "stdout",
     "output_type": "stream",
     "text": [
      "601 week 4 assignment.ipynb ---> {'bs4'}\n",
      "601project.ipynb ---> {'pandas', 'matplotlib.pyplot'}\n",
      "count_of_words_and_characters.ipynb ---> CSV and Pandas.ipynb ---> {'pandas'}\n",
      "demo_openpyxl.ipynb ---> {'pandas', 'openpyxl', 'xlsxwriter'}\n",
      "fake data.ipynb ---> {'csv', 'numpy', 'pandas', 'random', 'os'}\n",
      "fakedata2.ipynb ---> {'csv', 'numpy', 'pandas', 'random', 'os'}\n",
      "HTML in XML.ipynb ---> {'bs4'}\n",
      "openpyxl.ipynb ---> {'openpyxl'}\n",
      "project1.ipynb ---> {'pandas', 'matplotlib.pyplot'}\n",
      "project2_601.ipynb ---> {'pandas', 'numpy', 'matplotlib.pyplot'}\n",
      "removing punctuation and stop words from a corpus.ipynb ---> {'glob', 'docx', 'string'}\n",
      "shuffle.ipynb ---> Simulate a fair die and a biased 6-sided die  .ipynb ---> {'matplotlib.pyplot', 'random', 'numpy'}\n",
      "student_openpyxl_challenge.ipynb ---> {'openpyxl'}\n",
      "Untitled.ipynb ---> Untitled1.ipynb ---> {'re', 'bs4'}\n",
      "Untitled2.ipynb ---> {'google'}\n",
      "visualizing time series data  .ipynb ---> {'itertools', 'matplotlib.pyplot', 'datetime', 'pandas', 'matplotlib'}\n",
      "week5.ipynb ---> {'openpyxl'}\n",
      "week_4.ipynb ---> {'xml.etree.ElementTree', 'bs4'}\n"
     ]
    }
   ],
   "source": [
    "for i in range(len(files)):\n",
    "    if(i!=9):\n",
    "        parse(files[i])"
   ]
  },
  {
   "cell_type": "code",
   "execution_count": null,
   "metadata": {},
   "outputs": [],
   "source": []
  }
 ],
 "metadata": {
  "kernelspec": {
   "display_name": "Python 3",
   "language": "python",
   "name": "python3"
  },
  "language_info": {
   "codemirror_mode": {
    "name": "ipython",
    "version": 3
   },
   "file_extension": ".py",
   "mimetype": "text/x-python",
   "name": "python",
   "nbconvert_exporter": "python",
   "pygments_lexer": "ipython3",
   "version": "3.7.3"
  }
 },
 "nbformat": 4,
 "nbformat_minor": 2
}
