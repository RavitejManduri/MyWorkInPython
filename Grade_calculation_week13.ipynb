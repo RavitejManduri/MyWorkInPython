{
 "cells": [
  {
   "cell_type": "markdown",
   "metadata": {},
   "source": [
    "Simulate your course grade in a Jupyter notebook using Python3.\n",
    "\n",
    "Suppose the course grade is based on 24 assignments (each scored 0 to 100), 2 quizzes (each scored 0 to 40), three projects (each scored 0 to 100), and attendance in 15 classes (each scored as present or absent). The assignments+quizzes account for 30% of the course grade, the projects are 20% each (60% total), and attendance is 10% of the course grade. Suppose 10 of the (24 assignments+2 quizzes) are included in the final course score. The 10 are randomly selected. Letter grades are defined in the syllabus​.\n",
    "\n",
    "Use your (known) project scores, attendance, quiz scores, and assignment scores. Use your guess for your scores for the remaining homeworks and project. Simulate selecting randomly 10 assignment scores to get your course score (in percentage points). Repeat the simulation 100 times (each with a different random selection of assignments). Submit a notebook that performs this simulation and address the following objectives:\n",
    "\n",
    "Plot the distribution of your course score for the 100 simulated outcomes.\n",
    "What is the maximum course score, minimum course score, and average course score?"
   ]
  },
  {
   "cell_type": "code",
   "execution_count": 1,
   "metadata": {},
   "outputs": [],
   "source": [
    "import matplotlib.pyplot as plt\n",
    "import random\n",
    "import numpy"
   ]
  },
  {
   "cell_type": "markdown",
   "metadata": {},
   "source": [
    "the list contains 4 students scores in the form of (asign1,asign2,asign3,asign4,asign5,asign6,asign7,asign8,asign9,asign10,asign11,asign12,asign13,asign14,asign15,asign16,asign17,asign18,asign19,asign20,asign21,asign22,asign23,asign24,project1,project2,project3,attendance)"
   ]
  },
  {
   "cell_type": "code",
   "execution_count": 2,
   "metadata": {},
   "outputs": [],
   "source": [
    "total=[]"
   ]
  },
  {
   "cell_type": "markdown",
   "metadata": {},
   "source": [
    " https://www.w3schools.com/python/python_lists.asp This link was helpful while using lists"
   ]
  },
  {
   "cell_type": "code",
   "execution_count": 3,
   "metadata": {
    "scrolled": false
   },
   "outputs": [
    {
     "name": "stdout",
     "output_type": "stream",
     "text": [
      "[96.30000000000001, 96.9, 96.60000000000001, 96.15, 96.60000000000001, 96.75, 96.15, 96.45, 96.45, 96.60000000000001, 96.45, 96.75, 96.45, 96.30000000000001, 96.30000000000001, 96.60000000000001, 96.45, 96.75, 96.45, 96.60000000000001, 96.60000000000001, 96.60000000000001, 96.60000000000001, 96.30000000000001, 96.30000000000001, 96.60000000000001, 96.60000000000001, 96.45, 96.9, 96.9, 96.30000000000001, 96.60000000000001, 96.30000000000001, 96.75, 96.30000000000001, 96.75, 96.45, 96.75, 96.9, 96.30000000000001, 96.9, 96.30000000000001, 96.30000000000001, 96.75, 96.30000000000001, 96.60000000000001, 96.30000000000001, 96.15, 96.30000000000001, 96.60000000000001, 96.45, 96.30000000000001, 96.75, 96.30000000000001, 96.75, 96.75, 96.30000000000001, 96.60000000000001, 96.60000000000001, 96.60000000000001, 96.9, 96.45, 96.75, 96.60000000000001, 96.30000000000001, 96.60000000000001, 96.75, 96.60000000000001, 96.60000000000001, 96.75, 96.75, 96.75, 96.45, 96.9, 96.30000000000001, 96.15, 96.45, 96.60000000000001, 96.30000000000001, 96.30000000000001, 96.60000000000001, 96.60000000000001, 96.30000000000001, 96.75, 96.75, 96.9, 96.60000000000001, 96.30000000000001, 96.45, 96.75, 96.60000000000001, 96.15, 96.75, 96.45, 96.15, 96.75, 96.60000000000001, 96.75, 96.75, 96.30000000000001]\n"
     ]
    }
   ],
   "source": [
    "for i in range(100):\n",
    "    student=[100,95,100,100,100,100,100,100,100,100,100,90,100,100,100,100,100,100,100,95,100,95,100,95,40,40]\n",
    "    project=[176,198,195]\n",
    "    attended=15\n",
    "    scores=[]\n",
    "    assignment=0\n",
    "    projects= 0\n",
    "    attendance = 0 \n",
    "    x=0\n",
    "    student[24]=student[24]*100/40\n",
    "    student[25]=student[25]*100/40\n",
    "    \n",
    "    ##calculating score due to 10 out of 30 assignments and 2 quizzes i.e (0,3,6,9....27) total 10 assignments+ 2 quizzes\n",
    "    scores=numpy.random.choice(student, 10, replace=False)\n",
    "    assignment=sum(scores)\n",
    "    assignment=assignment/10\n",
    "    assignment=(30/100)*assignment\n",
    "\n",
    "    ##calculating score due to 3 projects\n",
    "    projects=sum(project)/2\n",
    "    projects=(20/100)*projects\n",
    "\n",
    "    #let us consider total classes held be 15\n",
    "    t_classes=15\n",
    "    ##Calculating score due to attendance\n",
    "    A_classes=attended\n",
    "    attendance=(A_classes/t_classes)*100\n",
    "    attendance=(10/100)*attendance\n",
    "    score=assignment+projects+attendance\n",
    "    total.append(score)\n",
    "\n",
    "print(total)"
   ]
  },
  {
   "cell_type": "markdown",
   "metadata": {},
   "source": [
    "## Sorting the list to plot\n",
    "https://www.geeksforgeeks.org/python-list-sort/"
   ]
  },
  {
   "cell_type": "code",
   "execution_count": 4,
   "metadata": {
    "scrolled": true
   },
   "outputs": [
    {
     "data": {
      "text/plain": [
       "[96.15,\n",
       " 96.15,\n",
       " 96.15,\n",
       " 96.15,\n",
       " 96.15,\n",
       " 96.15,\n",
       " 96.30000000000001,\n",
       " 96.30000000000001,\n",
       " 96.30000000000001,\n",
       " 96.30000000000001,\n",
       " 96.30000000000001,\n",
       " 96.30000000000001,\n",
       " 96.30000000000001,\n",
       " 96.30000000000001,\n",
       " 96.30000000000001,\n",
       " 96.30000000000001,\n",
       " 96.30000000000001,\n",
       " 96.30000000000001,\n",
       " 96.30000000000001,\n",
       " 96.30000000000001,\n",
       " 96.30000000000001,\n",
       " 96.30000000000001,\n",
       " 96.30000000000001,\n",
       " 96.30000000000001,\n",
       " 96.30000000000001,\n",
       " 96.30000000000001,\n",
       " 96.30000000000001,\n",
       " 96.30000000000001,\n",
       " 96.30000000000001,\n",
       " 96.30000000000001,\n",
       " 96.45,\n",
       " 96.45,\n",
       " 96.45,\n",
       " 96.45,\n",
       " 96.45,\n",
       " 96.45,\n",
       " 96.45,\n",
       " 96.45,\n",
       " 96.45,\n",
       " 96.45,\n",
       " 96.45,\n",
       " 96.45,\n",
       " 96.45,\n",
       " 96.45,\n",
       " 96.60000000000001,\n",
       " 96.60000000000001,\n",
       " 96.60000000000001,\n",
       " 96.60000000000001,\n",
       " 96.60000000000001,\n",
       " 96.60000000000001,\n",
       " 96.60000000000001,\n",
       " 96.60000000000001,\n",
       " 96.60000000000001,\n",
       " 96.60000000000001,\n",
       " 96.60000000000001,\n",
       " 96.60000000000001,\n",
       " 96.60000000000001,\n",
       " 96.60000000000001,\n",
       " 96.60000000000001,\n",
       " 96.60000000000001,\n",
       " 96.60000000000001,\n",
       " 96.60000000000001,\n",
       " 96.60000000000001,\n",
       " 96.60000000000001,\n",
       " 96.60000000000001,\n",
       " 96.60000000000001,\n",
       " 96.60000000000001,\n",
       " 96.60000000000001,\n",
       " 96.60000000000001,\n",
       " 96.60000000000001,\n",
       " 96.75,\n",
       " 96.75,\n",
       " 96.75,\n",
       " 96.75,\n",
       " 96.75,\n",
       " 96.75,\n",
       " 96.75,\n",
       " 96.75,\n",
       " 96.75,\n",
       " 96.75,\n",
       " 96.75,\n",
       " 96.75,\n",
       " 96.75,\n",
       " 96.75,\n",
       " 96.75,\n",
       " 96.75,\n",
       " 96.75,\n",
       " 96.75,\n",
       " 96.75,\n",
       " 96.75,\n",
       " 96.75,\n",
       " 96.75,\n",
       " 96.9,\n",
       " 96.9,\n",
       " 96.9,\n",
       " 96.9,\n",
       " 96.9,\n",
       " 96.9,\n",
       " 96.9,\n",
       " 96.9]"
      ]
     },
     "execution_count": 4,
     "metadata": {},
     "output_type": "execute_result"
    }
   ],
   "source": [
    "total.sort()\n",
    "total"
   ]
  },
  {
   "cell_type": "markdown",
   "metadata": {},
   "source": [
    "Graphical representation of student scores"
   ]
  },
  {
   "cell_type": "markdown",
   "metadata": {},
   "source": [
    "Displaying the scores of 4 students"
   ]
  },
  {
   "cell_type": "code",
   "execution_count": 5,
   "metadata": {},
   "outputs": [
    {
     "name": "stdout",
     "output_type": "stream",
     "text": [
      "96.15\n",
      "Grade: A\n",
      "96.15\n",
      "Grade: A\n",
      "96.15\n",
      "Grade: A\n",
      "96.15\n",
      "Grade: A\n",
      "96.15\n",
      "Grade: A\n",
      "96.15\n",
      "Grade: A\n",
      "96.30000000000001\n",
      "Grade: A\n",
      "96.30000000000001\n",
      "Grade: A\n",
      "96.30000000000001\n",
      "Grade: A\n",
      "96.30000000000001\n",
      "Grade: A\n",
      "96.30000000000001\n",
      "Grade: A\n",
      "96.30000000000001\n",
      "Grade: A\n",
      "96.30000000000001\n",
      "Grade: A\n",
      "96.30000000000001\n",
      "Grade: A\n",
      "96.30000000000001\n",
      "Grade: A\n",
      "96.30000000000001\n",
      "Grade: A\n",
      "96.30000000000001\n",
      "Grade: A\n",
      "96.30000000000001\n",
      "Grade: A\n",
      "96.30000000000001\n",
      "Grade: A\n",
      "96.30000000000001\n",
      "Grade: A\n",
      "96.30000000000001\n",
      "Grade: A\n",
      "96.30000000000001\n",
      "Grade: A\n",
      "96.30000000000001\n",
      "Grade: A\n",
      "96.30000000000001\n",
      "Grade: A\n",
      "96.30000000000001\n",
      "Grade: A\n",
      "96.30000000000001\n",
      "Grade: A\n",
      "96.30000000000001\n",
      "Grade: A\n",
      "96.30000000000001\n",
      "Grade: A\n",
      "96.30000000000001\n",
      "Grade: A\n",
      "96.30000000000001\n",
      "Grade: A\n",
      "96.45\n",
      "Grade: A\n",
      "96.45\n",
      "Grade: A\n",
      "96.45\n",
      "Grade: A\n",
      "96.45\n",
      "Grade: A\n",
      "96.45\n",
      "Grade: A\n",
      "96.45\n",
      "Grade: A\n",
      "96.45\n",
      "Grade: A\n",
      "96.45\n",
      "Grade: A\n",
      "96.45\n",
      "Grade: A\n",
      "96.45\n",
      "Grade: A\n",
      "96.45\n",
      "Grade: A\n",
      "96.45\n",
      "Grade: A\n",
      "96.45\n",
      "Grade: A\n",
      "96.45\n",
      "Grade: A\n",
      "96.60000000000001\n",
      "Grade: A\n",
      "96.60000000000001\n",
      "Grade: A\n",
      "96.60000000000001\n",
      "Grade: A\n",
      "96.60000000000001\n",
      "Grade: A\n",
      "96.60000000000001\n",
      "Grade: A\n",
      "96.60000000000001\n",
      "Grade: A\n",
      "96.60000000000001\n",
      "Grade: A\n",
      "96.60000000000001\n",
      "Grade: A\n",
      "96.60000000000001\n",
      "Grade: A\n",
      "96.60000000000001\n",
      "Grade: A\n",
      "96.60000000000001\n",
      "Grade: A\n",
      "96.60000000000001\n",
      "Grade: A\n",
      "96.60000000000001\n",
      "Grade: A\n",
      "96.60000000000001\n",
      "Grade: A\n",
      "96.60000000000001\n",
      "Grade: A\n",
      "96.60000000000001\n",
      "Grade: A\n",
      "96.60000000000001\n",
      "Grade: A\n",
      "96.60000000000001\n",
      "Grade: A\n",
      "96.60000000000001\n",
      "Grade: A\n",
      "96.60000000000001\n",
      "Grade: A\n",
      "96.60000000000001\n",
      "Grade: A\n",
      "96.60000000000001\n",
      "Grade: A\n",
      "96.60000000000001\n",
      "Grade: A\n",
      "96.60000000000001\n",
      "Grade: A\n",
      "96.60000000000001\n",
      "Grade: A\n",
      "96.60000000000001\n",
      "Grade: A\n",
      "96.75\n",
      "Grade: A\n",
      "96.75\n",
      "Grade: A\n",
      "96.75\n",
      "Grade: A\n",
      "96.75\n",
      "Grade: A\n",
      "96.75\n",
      "Grade: A\n",
      "96.75\n",
      "Grade: A\n",
      "96.75\n",
      "Grade: A\n",
      "96.75\n",
      "Grade: A\n",
      "96.75\n",
      "Grade: A\n",
      "96.75\n",
      "Grade: A\n",
      "96.75\n",
      "Grade: A\n",
      "96.75\n",
      "Grade: A\n",
      "96.75\n",
      "Grade: A\n",
      "96.75\n",
      "Grade: A\n",
      "96.75\n",
      "Grade: A\n",
      "96.75\n",
      "Grade: A\n",
      "96.75\n",
      "Grade: A\n",
      "96.75\n",
      "Grade: A\n",
      "96.75\n",
      "Grade: A\n",
      "96.75\n",
      "Grade: A\n",
      "96.75\n",
      "Grade: A\n",
      "96.75\n",
      "Grade: A\n",
      "96.9\n",
      "Grade: A\n",
      "96.9\n",
      "Grade: A\n",
      "96.9\n",
      "Grade: A\n",
      "96.9\n",
      "Grade: A\n",
      "96.9\n",
      "Grade: A\n",
      "96.9\n",
      "Grade: A\n",
      "96.9\n",
      "Grade: A\n",
      "96.9\n",
      "Grade: A\n"
     ]
    }
   ],
   "source": [
    "\n",
    "for i in range(len(total)):\n",
    "    print(total[i])\n",
    "    if(total[i]>=90 and total[i]<=100):\n",
    "        print(\"Grade: A\")\n",
    "    elif(total[i]>=80 and total[i]<=89):\n",
    "        print(\"Grade: B\")\n",
    "    elif(total[i]>=70 and total[i]<=79):\n",
    "        print(\"Grade: C\")\n",
    "    elif(total[i]>=60 and total[i]<=69):\n",
    "        print(\"Grade: D\")\n",
    "    else:\n",
    "        print(\"Grade: F\")\n",
    "    \n",
    "        \n"
   ]
  },
  {
   "cell_type": "code",
   "execution_count": 6,
   "metadata": {},
   "outputs": [
    {
     "data": {
      "text/plain": [
       "<function matplotlib.pyplot.show(*args, **kw)>"
      ]
     },
     "execution_count": 6,
     "metadata": {},
     "output_type": "execute_result"
    },
    {
     "data": {
      "image/png": "[encoded data removed]",
      "text/plain": [
       "<Figure size 432x288 with 1 Axes>"
      ]
     },
     "metadata": {
      "needs_background": "light"
     },
     "output_type": "display_data"
    }
   ],
   "source": [
    "plt.hist(total)\n",
    "plt.title(\"Final Score vs Frequency\")\n",
    "plt.xlabel(\"Scores\")\n",
    "plt.ylabel(\"Frequency\")\n",
    "plt.show"
   ]
  },
  {
   "cell_type": "markdown",
   "metadata": {},
   "source": [
    "# Minimum of all the scores is:"
   ]
  },
  {
   "cell_type": "code",
   "execution_count": 7,
   "metadata": {},
   "outputs": [
    {
     "name": "stdout",
     "output_type": "stream",
     "text": [
      "96.15\n"
     ]
    }
   ],
   "source": [
    "print(min(total))"
   ]
  },
  {
   "cell_type": "markdown",
   "metadata": {},
   "source": [
    "# Maximum of all the scores is:"
   ]
  },
  {
   "cell_type": "code",
   "execution_count": 8,
   "metadata": {},
   "outputs": [
    {
     "name": "stdout",
     "output_type": "stream",
     "text": [
      "96.9\n"
     ]
    }
   ],
   "source": [
    "print(max(total))"
   ]
  },
  {
   "cell_type": "markdown",
   "metadata": {},
   "source": [
    "# Average of all the scores is:"
   ]
  },
  {
   "cell_type": "code",
   "execution_count": 9,
   "metadata": {},
   "outputs": [
    {
     "name": "stdout",
     "output_type": "stream",
     "text": [
      "96.53700000000005\n"
     ]
    }
   ],
   "source": [
    "print(sum(total)/len(total))"
   ]
  },
  {
   "cell_type": "code",
   "execution_count": null,
   "metadata": {},
   "outputs": [],
   "source": []
  }
 ],
 "metadata": {
  "kernelspec": {
   "display_name": "Python 3",
   "language": "python",
   "name": "python3"
  },
  "language_info": {
   "codemirror_mode": {
    "name": "ipython",
    "version": 3
   },
   "file_extension": ".py",
   "mimetype": "text/x-python",
   "name": "python",
   "nbconvert_exporter": "python",
   "pygments_lexer": "ipython3",
   "version": "3.7.3"
  }
 },
 "nbformat": 4,
 "nbformat_minor": 2
}
